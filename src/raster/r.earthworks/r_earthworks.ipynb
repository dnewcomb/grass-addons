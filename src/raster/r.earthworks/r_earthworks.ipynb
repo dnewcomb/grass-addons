{
 "cells": [
  {
   "cell_type": "markdown",
   "metadata": {},
   "source": [
    "# r.earthworks\n",
    "This notebook runs the example from r.earthworks's manual page and visualizes the output.\n",
    "\n",
    "## Setup\n",
    "Start a GRASS session in the North Carolina basic sample dataset."
   ]
  },
  {
   "cell_type": "code",
   "execution_count": null,
   "metadata": {},
   "outputs": [],
   "source": [
    "import os\n",
    "import json\n",
    "import subprocess\n",
    "import sys\n",
    "\n",
    "# ask GRASS GIS where its Python packages are\n",
    "sys.path.append(\n",
    "    subprocess.check_output([\"grass\", \"--config\", \"python_path\"], text=True).strip()\n",
    ")\n",
    "\n",
    "# import GRASS packages\n",
    "import grass.script as gs\n",
    "import grass.jupyter as gj\n",
    "\n",
    "# start GRASS session\n",
    "session = gj.init(\"~/grassdata/nc_basic_spm_grass7/user1\")"
   ]
  },
  {
   "cell_type": "markdown",
   "metadata": {},
   "source": [
    "Install the addon."
   ]
  },
  {
   "cell_type": "code",
   "execution_count": null,
   "metadata": {},
   "outputs": [],
   "source": [
    "# install addon\n",
    "gs.run_command(\n",
    "    \"g.extension\",\n",
    "    extension=\"r.earthworks\",\n",
    "    url=\"https://github.com/baharmon/r.earthworks\",\n",
    ")"
   ]
  },
  {
   "cell_type": "markdown",
   "metadata": {},
   "source": [
    "## Operations"
   ]
  },
  {
   "cell_type": "markdown",
   "metadata": {},
   "source": [
    "Set the computational region and generate a flat terrain with map algebra."
   ]
  },
  {
   "cell_type": "code",
   "execution_count": null,
   "metadata": {},
   "outputs": [],
   "source": [
    "# set region\n",
    "gs.run_command(\"g.region\", n=500, e=500, s=0, w=0, res=1)\n",
    "\n",
    "# generate elevation\n",
    "gs.mapcalc(\"elevation = 0\")"
   ]
  },
  {
   "cell_type": "markdown",
   "metadata": {},
   "source": [
    "### Fill Operation\n",
    "Model a peak from a set of x- and y-coordinates with `r.earthworks`. Use the `z` parameter to set a z-coordinate for the top of the peak. Optionally use the `flat` parameter to create a plateau at the top of the peak. "
   ]
  },
  {
   "cell_type": "code",
   "execution_count": null,
   "metadata": {},
   "outputs": [],
   "source": [
    "# model earthworks\n",
    "gs.run_command(\n",
    "    \"r.earthworks\",\n",
    "    elevation=\"elevation\",\n",
    "    earthworks=\"peak\",\n",
    "    operation=\"fill\",\n",
    "    coordinates=[250, 250],\n",
    "    z=50,\n",
    "    flat=50,\n",
    "    rate=0.5,\n",
    ")\n",
    "\n",
    "# visualize\n",
    "m = gj.Map(width=250)\n",
    "m.d_rast(map=\"peak\")\n",
    "m.show()"
   ]
  },
  {
   "cell_type": "code",
   "execution_count": null,
   "metadata": {},
   "outputs": [],
   "source": [
    "# visualize in 3D\n",
    "map3d = gj.Map3D(width=250, height=250)\n",
    "map3d.render(elevation_map=\"peak\", height=1000, perspective=25, bgcolor=[17, 17, 17])\n",
    "map3d.show()"
   ]
  },
  {
   "cell_type": "markdown",
   "metadata": {},
   "source": [
    "### Cut Operation\n",
    "Model a pit from a set of x- and y-coordinates with `r.earthworks`. Set a z-coordinate for the bottom of the pit."
   ]
  },
  {
   "cell_type": "code",
   "execution_count": null,
   "metadata": {},
   "outputs": [],
   "source": [
    "# model earthworks\n",
    "gs.run_command(\n",
    "    \"r.earthworks\",\n",
    "    elevation=\"elevation\",\n",
    "    earthworks=\"pit\",\n",
    "    operation=\"cut\",\n",
    "    coordinates=[250, 250],\n",
    "    z=-50,\n",
    "    flat=50,\n",
    "    rate=0.5,\n",
    ")\n",
    "\n",
    "# visualize\n",
    "m = gj.Map(width=250)\n",
    "m.d_rast(map=\"pit\")\n",
    "m.d_legend(raster=\"pit\")\n",
    "m.show()"
   ]
  },
  {
   "cell_type": "code",
   "execution_count": null,
   "metadata": {},
   "outputs": [],
   "source": [
    "# visualize in 3D\n",
    "map3d = gj.Map3D(width=250, height=250)\n",
    "map3d.render(elevation_map=\"pit\", height=1000, perspective=25, bgcolor=[17, 17, 17])\n",
    "map3d.show()"
   ]
  },
  {
   "cell_type": "markdown",
   "metadata": {},
   "source": [
    "### Cut & Fill Operation\n",
    "Model a pit and a peak from two sets of x- and y-coordinates with `r.earthworks`. Set a z-coordinate for the bottom of the pit and another z-coordinate for the top of the peak."
   ]
  },
  {
   "cell_type": "code",
   "execution_count": null,
   "metadata": {},
   "outputs": [],
   "source": [
    "# model earthworks\n",
    "gs.run_command(\n",
    "    \"r.earthworks\",\n",
    "    elevation=\"elevation\",\n",
    "    earthworks=\"pit_and_peak\",\n",
    "    operation=\"cutfill\",\n",
    "    coordinates=[180, 180, 320, 320],\n",
    "    z=[-50, 50],\n",
    "    flat=50,\n",
    "    rate=0.5,\n",
    ")\n",
    "\n",
    "# visualize\n",
    "m = gj.Map(width=250)\n",
    "m.d_rast(map=\"pit_and_peak\")\n",
    "m.show()"
   ]
  },
  {
   "cell_type": "code",
   "execution_count": null,
   "metadata": {},
   "outputs": [],
   "source": [
    "# visualize in 3D\n",
    "map3d = gj.Map3D(width=250, height=250)\n",
    "map3d.render(\n",
    "    elevation_map=\"pit_and_peak\", height=1000, perspective=25, bgcolor=[17, 17, 17]\n",
    ")\n",
    "map3d.show()"
   ]
  },
  {
   "cell_type": "markdown",
   "metadata": {},
   "source": [
    "### Random Earthworks\n",
    "Model random pits and peaks with `r.random` and `r.earthworks`."
   ]
  },
  {
   "cell_type": "code",
   "execution_count": null,
   "metadata": {},
   "outputs": [],
   "source": [
    "# generate random points\n",
    "gs.run_command(\"r.surf.random\", out=\"surface\", min=0, max=25)\n",
    "gs.run_command(\n",
    "    \"r.random\",\n",
    "    input=\"elevation\",\n",
    "    npoints=50,\n",
    "    cover=\"surface\",\n",
    "    raster=\"random\",\n",
    "    flags=\"s\",\n",
    ")\n",
    "\n",
    "# model earthworks\n",
    "gs.run_command(\n",
    "    \"r.earthworks\",\n",
    "    elevation=\"elevation\",\n",
    "    earthworks=\"random_earthworks\",\n",
    "    operation=\"fill\",\n",
    "    raster=\"random\",\n",
    "    rate=0.25,\n",
    "    flat=25,\n",
    ")\n",
    "\n",
    "# visualize\n",
    "m = gj.Map(width=250)\n",
    "m.d_rast(map=\"random_earthworks\")\n",
    "m.show()"
   ]
  },
  {
   "cell_type": "code",
   "execution_count": null,
   "metadata": {},
   "outputs": [],
   "source": [
    "# visualize in 3D\n",
    "map3d = gj.Map3D(width=250, height=250)\n",
    "map3d.render(\n",
    "    elevation_map=\"random_earthworks\",\n",
    "    height=1000,\n",
    "    zexag=1,\n",
    "    perspective=25,\n",
    "    bgcolor=[17, 17, 17],\n",
    ")\n",
    "map3d.show()"
   ]
  }
 ],
 "metadata": {
  "kernelspec": {
   "display_name": "Python 3 (ipykernel)",
   "language": "python",
   "name": "python3"
  },
  "language_info": {
   "codemirror_mode": {
    "name": "ipython",
    "version": 3
   },
   "file_extension": ".py",
   "mimetype": "text/x-python",
   "name": "python",
   "nbconvert_exporter": "python",
   "pygments_lexer": "ipython3",
   "version": "3.12.8"
  }
 },
 "nbformat": 4,
 "nbformat_minor": 4
}
